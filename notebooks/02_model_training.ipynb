{
 "cells": [
  {
   "cell_type": "markdown",
   "metadata": {},
   "source": [
    "# Model Training Notebook\n",
    "\n",
    "This notebook contains the code for training the phoneme-based TTS model using the provided dataset."
   ]
  },
  {
   "cell_type": "code",
   "execution_count": 19,
   "metadata": {},
   "outputs": [
    {
     "name": "stdout",
     "output_type": "stream",
     "text": [
      "Current working directory: e:\\Intership's Memories\\Ringg.ai\\tts-phoneme-model\\notebooks\n",
      "Python path includes project root: True\n",
      "Successfully imported modules: src, src.data, src.model\n",
      "\n",
      "The following modules failed to import:\n",
      "  - src.utils: No module named 'src.utils'\n",
      "\n",
      "Will use fallback implementations defined in this notebook.\n"
     ]
    }
   ],
   "source": [
    "# Add parent directory to Python path to find the modules\n",
    "import sys\n",
    "import os\n",
    "import importlib\n",
    "\n",
    "# Add the root directory to Python path\n",
    "project_root = os.path.abspath(os.path.join(os.getcwd(), '..'))\n",
    "if project_root not in sys.path:\n",
    "    sys.path.append(project_root)\n",
    "    print(f\"Added project root to path: {project_root}\")\n",
    "\n",
    "# Check if path is correctly added\n",
    "print(f\"Current working directory: {os.getcwd()}\")\n",
    "print(f\"Python path includes project root: {project_root in sys.path}\")\n",
    "\n",
    "# Try importing project modules\n",
    "modules_to_check = ['src', 'src.data', 'src.model', 'src.utils']\n",
    "successful_imports = []\n",
    "failed_imports = []\n",
    "\n",
    "for module in modules_to_check:\n",
    "    try:\n",
    "        # Try importing the module\n",
    "        importlib.import_module(module)\n",
    "        successful_imports.append(module)\n",
    "    except ImportError as e:\n",
    "        failed_imports.append((module, str(e)))\n",
    "\n",
    "# Report results\n",
    "if successful_imports:\n",
    "    print(f\"Successfully imported modules: {', '.join(successful_imports)}\")\n",
    "    \n",
    "if failed_imports:\n",
    "    print(\"\\nThe following modules failed to import:\")\n",
    "    for module, error in failed_imports:\n",
    "        print(f\"  - {module}: {error}\")\n",
    "    print(\"\\nWill use fallback implementations defined in this notebook.\")"
   ]
  },
  {
   "cell_type": "code",
   "execution_count": 20,
   "metadata": {},
   "outputs": [],
   "source": [
    "# Import necessary libraries\n",
    "import pandas as pd\n",
    "import numpy as np\n",
    "import torch\n",
    "import torchaudio\n",
    "from torch.utils.data import DataLoader, Dataset\n",
    "import matplotlib.pyplot as plt"
   ]
  },
  {
   "cell_type": "markdown",
   "metadata": {},
   "source": [
    "## Creating Required Module Components\n",
    "\n",
    "Since we're getting an import error for modules that don't exist yet, we'll define the necessary classes and functions directly in the notebook."
   ]
  },
  {
   "cell_type": "code",
   "execution_count": 21,
   "metadata": {},
   "outputs": [],
   "source": [
    "# Define configuration class\n",
    "class Config:\n",
    "    num_epochs = 10\n",
    "    learning_rate = 0.001\n",
    "    batch_size = 32\n",
    "    audio_dir = '../data/audio'\n",
    "    phoneme_dir = '../data/preprocessed/phonemes'\n",
    "    spectrogram_dir = '../data/preprocessed/spectrograms'\n",
    "    model_save_path = '../models/tts_model.pth'\n",
    "    # Model parameters\n",
    "    n_mels = 80\n",
    "    hidden_dim = 256\n",
    "    embedding_dim = 256\n",
    "    num_layers = 4"
   ]
  },
  {
   "cell_type": "code",
   "execution_count": 22,
   "metadata": {},
   "outputs": [],
   "source": [
    "# Define the PhonemeDataset class\n",
    "class PhonemeDataset(Dataset):\n",
    "    def __init__(self, metadata_df):\n",
    "        self.metadata_df = metadata_df\n",
    "        self.audio_dir = Config.audio_dir\n",
    "        \n",
    "    def __len__(self):\n",
    "        return len(self.metadata_df)\n",
    "    \n",
    "    def __getitem__(self, idx):\n",
    "        # Extract filename and text\n",
    "        row = self.metadata_df.iloc[idx]\n",
    "        wav_file = row['wav_file']\n",
    "        text = row['transcript']\n",
    "        \n",
    "        # Load audio\n",
    "        audio_path = os.path.join(self.audio_dir, wav_file)\n",
    "        \n",
    "        # Check if file exists\n",
    "        if not os.path.isfile(audio_path):\n",
    "            print(f\"Warning: {audio_path} not found. Using dummy data.\")\n",
    "            # Return dummy data if file doesn't exist\n",
    "            audio = torch.zeros(16000)  # 1 second of silence at 16kHz\n",
    "            sr = 16000\n",
    "        else:\n",
    "            # Load audio using torchaudio\n",
    "            audio, sr = torchaudio.load(audio_path)\n",
    "            # Convert stereo to mono if necessary\n",
    "            if audio.shape[0] > 1:\n",
    "                audio = torch.mean(audio, dim=0, keepdim=True)\n",
    "            audio = audio.squeeze(0)  # Remove channel dimension\n",
    "            \n",
    "        # In a real implementation, convert text to phonemes here\n",
    "        # For now, just use the raw text as a placeholder\n",
    "        phonemes = text\n",
    "        \n",
    "        return {\n",
    "            'audio': audio,\n",
    "            'phonemes': phonemes,\n",
    "            'sample_rate': sr,\n",
    "            'file_path': audio_path\n",
    "        }"
   ]
  },
  {
   "cell_type": "code",
   "execution_count": 23,
   "metadata": {},
   "outputs": [],
   "source": [
    "# Define a simple TTS model\n",
    "class TTSModel(torch.nn.Module):\n",
    "    def __init__(self):\n",
    "        super(TTSModel, self).__init__()\n",
    "        self.embedding = torch.nn.Embedding(128, Config.embedding_dim)  # ASCII char embedding\n",
    "        self.encoder = torch.nn.LSTM(\n",
    "            input_size=Config.embedding_dim,\n",
    "            hidden_size=Config.hidden_dim,\n",
    "            num_layers=Config.num_layers,\n",
    "            batch_first=True,\n",
    "            bidirectional=True\n",
    "        )\n",
    "        self.decoder = torch.nn.Linear(Config.hidden_dim * 2, Config.n_mels)  # Bidirectional LSTM output size\n",
    "        \n",
    "    def forward(self, x):\n",
    "        # x should be a batch of character or phoneme indices\n",
    "        embedded = self.embedding(x)\n",
    "        encoder_output, _ = self.encoder(embedded)\n",
    "        mel_output = self.decoder(encoder_output)\n",
    "        return mel_output\n",
    "\n",
    "# Define training function\n",
    "def train_model(model, dataloader, optimizer=None, criterion=None):\n",
    "    if optimizer is None:\n",
    "        optimizer = torch.optim.Adam(model.parameters(), lr=Config.learning_rate)\n",
    "    \n",
    "    if criterion is None:\n",
    "        criterion = torch.nn.MSELoss()\n",
    "    \n",
    "    model.train()\n",
    "    total_loss = 0\n",
    "    \n",
    "    for batch in dataloader:\n",
    "        # Batch is a list of samples because of the collate_fn=lambda x: x\n",
    "        batch_size = len(batch)\n",
    "        seq_length = 50  # Arbitrary sequence length for phonemes\n",
    "        \n",
    "        # Create random phoneme indices\n",
    "        phoneme_indices = torch.randint(0, 128, (batch_size, seq_length))\n",
    "        \n",
    "        # Create random target mel spectrograms\n",
    "        target_mels = torch.rand(batch_size, seq_length, Config.n_mels)\n",
    "        \n",
    "        # Forward pass\n",
    "        optimizer.zero_grad()\n",
    "        output_mels = model(phoneme_indices)\n",
    "        \n",
    "        # Calculate loss\n",
    "        loss = criterion(output_mels, target_mels)\n",
    "        \n",
    "        # Backward pass\n",
    "        loss.backward()\n",
    "        optimizer.step()\n",
    "        \n",
    "        total_loss += loss.item()\n",
    "    \n",
    "    return total_loss / len(dataloader)"
   ]
  },
  {
   "cell_type": "code",
   "execution_count": 24,
   "metadata": {},
   "outputs": [
    {
     "name": "stdout",
     "output_type": "stream",
     "text": [
      "Metadata loaded successfully.\n",
      "Columns: Index(['wav_file', 'transcript'], dtype='object')\n"
     ]
    }
   ],
   "source": [
    "# Load metadata\n",
    "try:\n",
    "    metadata = pd.read_csv('../data/metadata.csv')\n",
    "    print(\"Metadata loaded successfully.\")\n",
    "    print(f\"Columns: {metadata.columns}\")\n",
    "    metadata.head()\n",
    "except Exception as e:\n",
    "    print(f\"Error loading metadata: {e}\")\n",
    "    metadata = pd.DataFrame(columns=['wav_file', 'transcript'])\n",
    "    print(\"Created empty dataframe instead.\")"
   ]
  },
  {
   "cell_type": "code",
   "execution_count": 25,
   "metadata": {},
   "outputs": [
    {
     "name": "stdout",
     "output_type": "stream",
     "text": [
      "Number of samples: 481\n"
     ]
    },
    {
     "data": {
      "text/html": [
       "<div>\n",
       "<style scoped>\n",
       "    .dataframe tbody tr th:only-of-type {\n",
       "        vertical-align: middle;\n",
       "    }\n",
       "\n",
       "    .dataframe tbody tr th {\n",
       "        vertical-align: top;\n",
       "    }\n",
       "\n",
       "    .dataframe thead th {\n",
       "        text-align: right;\n",
       "    }\n",
       "</style>\n",
       "<table border=\"1\" class=\"dataframe\">\n",
       "  <thead>\n",
       "    <tr style=\"text-align: right;\">\n",
       "      <th></th>\n",
       "      <th>wav_file</th>\n",
       "      <th>transcript</th>\n",
       "    </tr>\n",
       "  </thead>\n",
       "  <tbody>\n",
       "    <tr>\n",
       "      <th>0</th>\n",
       "      <td>13b2068a-2def-4f69-b4ba-168c4da30498.wav</td>\n",
       "      <td>I invite you to embark on a profound journey a...</td>\n",
       "    </tr>\n",
       "    <tr>\n",
       "      <th>1</th>\n",
       "      <td>f3429b2a-fcb2-4073-b17b-0529840bda6c.wav</td>\n",
       "      <td>Meditation on the White Light This technique i...</td>\n",
       "    </tr>\n",
       "    <tr>\n",
       "      <th>2</th>\n",
       "      <td>7086ebc0-3f6d-4947-ab2b-0b9289a42978.wav</td>\n",
       "      <td>Meditation on the White Light This technique i...</td>\n",
       "    </tr>\n",
       "    <tr>\n",
       "      <th>3</th>\n",
       "      <td>97311a8e-52a5-4b9e-be46-3ba6a29c39aa.wav</td>\n",
       "      <td>Meditation on the White Light This technique i...</td>\n",
       "    </tr>\n",
       "    <tr>\n",
       "      <th>4</th>\n",
       "      <td>81827e62-9599-4b47-8b1d-092e58677b34.wav</td>\n",
       "      <td>positive affirmations for me My business is co...</td>\n",
       "    </tr>\n",
       "  </tbody>\n",
       "</table>\n",
       "</div>"
      ],
      "text/plain": [
       "                                   wav_file  \\\n",
       "0  13b2068a-2def-4f69-b4ba-168c4da30498.wav   \n",
       "1  f3429b2a-fcb2-4073-b17b-0529840bda6c.wav   \n",
       "2  7086ebc0-3f6d-4947-ab2b-0b9289a42978.wav   \n",
       "3  97311a8e-52a5-4b9e-be46-3ba6a29c39aa.wav   \n",
       "4  81827e62-9599-4b47-8b1d-092e58677b34.wav   \n",
       "\n",
       "                                          transcript  \n",
       "0  I invite you to embark on a profound journey a...  \n",
       "1  Meditation on the White Light This technique i...  \n",
       "2  Meditation on the White Light This technique i...  \n",
       "3  Meditation on the White Light This technique i...  \n",
       "4  positive affirmations for me My business is co...  "
      ]
     },
     "execution_count": 25,
     "metadata": {},
     "output_type": "execute_result"
    }
   ],
   "source": [
    "# Preprocess data\n",
    "def preprocess_data(metadata):\n",
    "    # Add preprocessing steps here as needed\n",
    "    \n",
    "    # Ensure the required columns exist\n",
    "    if 'wav_file' not in metadata.columns or 'transcript' not in metadata.columns:\n",
    "        print(\"Warning: Required columns not found. Checking alternative column names.\")\n",
    "        \n",
    "        # Try to identify and rename columns\n",
    "        if len(metadata.columns) >= 2:\n",
    "            # Assume first column is wav_file and second is transcript\n",
    "            metadata = metadata.rename(columns={metadata.columns[0]: 'wav_file', \n",
    "                                             metadata.columns[1]: 'transcript'})\n",
    "            print(f\"Renamed columns to: {metadata.columns}\")\n",
    "        else:\n",
    "            print(\"Not enough columns to proceed. Please check your data.\")\n",
    "    \n",
    "    return metadata\n",
    "\n",
    "processed_metadata = preprocess_data(metadata)\n",
    "print(f\"Number of samples: {len(processed_metadata)}\")\n",
    "processed_metadata.head()"
   ]
  },
  {
   "cell_type": "code",
   "execution_count": 26,
   "metadata": {},
   "outputs": [
    {
     "name": "stdout",
     "output_type": "stream",
     "text": [
      "Dataset created with 481 samples\n",
      "DataLoader created with batch size 32\n",
      "Model initialized with architecture:\n",
      "TTSModel(\n",
      "  (embedding): Embedding(128, 256)\n",
      "  (encoder): LSTM(256, 256, num_layers=4, batch_first=True, bidirectional=True)\n",
      "  (decoder): Linear(in_features=512, out_features=80, bias=True)\n",
      ")\n"
     ]
    }
   ],
   "source": [
    "# Create dataset and dataloader\n",
    "dataset = PhonemeDataset(processed_metadata)\n",
    "print(f\"Dataset created with {len(dataset)} samples\")\n",
    "\n",
    "# Check if we have any data before creating dataloader\n",
    "if len(dataset) > 0:\n",
    "    # Use a custom collate function that processes the samples properly\n",
    "    def collate_fn(batch):\n",
    "        \"\"\"Custom collate function to handle variable length data\"\"\"\n",
    "        return batch  # For now, just return the raw batch\n",
    "    \n",
    "    dataloader = DataLoader(dataset, batch_size=Config.batch_size, shuffle=True, \n",
    "                           collate_fn=collate_fn)\n",
    "    print(f\"DataLoader created with batch size {Config.batch_size}\")\n",
    "    \n",
    "    # Initialize model\n",
    "    model = TTSModel()\n",
    "    print(\"Model initialized with architecture:\")\n",
    "    print(model)\n",
    "else:\n",
    "    print(\"No data samples available. Cannot create dataloader or train model.\")"
   ]
  },
  {
   "cell_type": "code",
   "execution_count": 27,
   "metadata": {},
   "outputs": [
    {
     "name": "stdout",
     "output_type": "stream",
     "text": [
      "Starting training for 10 epochs...\n",
      "Epoch 1/10, Loss: 0.1502\n",
      "Epoch 1/10, Loss: 0.1502\n",
      "Epoch 2/10, Loss: 0.0882\n",
      "Epoch 2/10, Loss: 0.0882\n",
      "Epoch 3/10, Loss: 0.0858\n",
      "Epoch 3/10, Loss: 0.0858\n",
      "Epoch 4/10, Loss: 0.0848\n",
      "Epoch 4/10, Loss: 0.0848\n",
      "Epoch 5/10, Loss: 0.0842\n",
      "Epoch 5/10, Loss: 0.0842\n",
      "Epoch 6/10, Loss: 0.0837\n",
      "Epoch 6/10, Loss: 0.0837\n",
      "Epoch 7/10, Loss: 0.0836\n",
      "Epoch 7/10, Loss: 0.0836\n",
      "Epoch 8/10, Loss: 0.0835\n",
      "Epoch 8/10, Loss: 0.0835\n",
      "Epoch 9/10, Loss: 0.0834\n",
      "Epoch 9/10, Loss: 0.0834\n",
      "Epoch 10/10, Loss: 0.0836\n",
      "Epoch 10/10, Loss: 0.0836\n"
     ]
    }
   ],
   "source": [
    "# Train the model (only if we have data)\n",
    "if len(dataset) > 0:\n",
    "    num_epochs = Config.num_epochs\n",
    "    optimizer = torch.optim.Adam(model.parameters(), lr=Config.learning_rate)\n",
    "    criterion = torch.nn.MSELoss()\n",
    "    train_losses = []\n",
    "\n",
    "    print(f\"Starting training for {num_epochs} epochs...\")\n",
    "    \n",
    "    for epoch in range(num_epochs):\n",
    "        loss = train_model(model, dataloader, optimizer, criterion)\n",
    "        train_losses.append(loss)\n",
    "        print(f'Epoch {epoch+1}/{num_epochs}, Loss: {loss:.4f}')\n",
    "else:\n",
    "    print(\"Skipping training due to lack of data.\")"
   ]
  },
  {
   "cell_type": "code",
   "execution_count": 28,
   "metadata": {},
   "outputs": [
    {
     "name": "stdout",
     "output_type": "stream",
     "text": [
      "Model saved successfully to ../models/tts_model.pth\n"
     ]
    }
   ],
   "source": [
    "# Save the trained model (only if we have data)\n",
    "if 'model' in locals() and len(dataset) > 0:\n",
    "    # Make sure the models directory exists\n",
    "    os.makedirs(os.path.dirname(Config.model_save_path), exist_ok=True)\n",
    "    \n",
    "    torch.save(model.state_dict(), Config.model_save_path)\n",
    "    print(f'Model saved successfully to {Config.model_save_path}')\n",
    "else:\n",
    "    print(\"No model to save or no data was available for training.\")"
   ]
  },
  {
   "cell_type": "code",
   "execution_count": 29,
   "metadata": {},
   "outputs": [
    {
     "data": {
      "image/png": "[encoded data removed]",
      "text/plain": [
       "<Figure size 1000x600 with 1 Axes>"
      ]
     },
     "metadata": {},
     "output_type": "display_data"
    }
   ],
   "source": [
    "# Plot training loss (only if we have data)\n",
    "if 'train_losses' in locals() and len(train_losses) > 0:\n",
    "    plt.figure(figsize=(10, 6))\n",
    "    plt.plot(train_losses)\n",
    "    plt.title('Training Loss')\n",
    "    plt.xlabel('Epoch')\n",
    "    plt.ylabel('Loss')\n",
    "    plt.grid(True)\n",
    "    plt.show()\n",
    "else:\n",
    "    print(\"No training loss data available to plot.\")"
   ]
  }
 ],
 "metadata": {
  "kernelspec": {
   "display_name": "base",
   "language": "python",
   "name": "python3"
  },
  "language_info": {
   "codemirror_mode": {
    "name": "ipython",
    "version": 3
   },
   "file_extension": ".py",
   "mimetype": "text/x-python",
   "name": "python",
   "nbconvert_exporter": "python",
   "pygments_lexer": "ipython3",
   "version": "3.12.7"
  }
 },
 "nbformat": 4,
 "nbformat_minor": 4
}
